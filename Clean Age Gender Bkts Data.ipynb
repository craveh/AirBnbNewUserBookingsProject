{
 "cells": [
  {
   "cell_type": "code",
   "execution_count": 1,
   "id": "de0a22cd",
   "metadata": {},
   "outputs": [],
   "source": [
    "import pandas as pd"
   ]
  },
  {
   "cell_type": "code",
   "execution_count": 5,
   "id": "98479ff8",
   "metadata": {},
   "outputs": [
    {
     "data": {
      "text/html": [
       "<div>\n",
       "<style scoped>\n",
       "    .dataframe tbody tr th:only-of-type {\n",
       "        vertical-align: middle;\n",
       "    }\n",
       "\n",
       "    .dataframe tbody tr th {\n",
       "        vertical-align: top;\n",
       "    }\n",
       "\n",
       "    .dataframe thead th {\n",
       "        text-align: right;\n",
       "    }\n",
       "</style>\n",
       "<table border=\"1\" class=\"dataframe\">\n",
       "  <thead>\n",
       "    <tr style=\"text-align: right;\">\n",
       "      <th></th>\n",
       "      <th>age_bucket</th>\n",
       "      <th>country_destination</th>\n",
       "      <th>gender</th>\n",
       "      <th>population_in_thousands</th>\n",
       "      <th>year</th>\n",
       "    </tr>\n",
       "  </thead>\n",
       "  <tbody>\n",
       "    <tr>\n",
       "      <th>0</th>\n",
       "      <td>100+</td>\n",
       "      <td>AU</td>\n",
       "      <td>male</td>\n",
       "      <td>1.0</td>\n",
       "      <td>2015.0</td>\n",
       "    </tr>\n",
       "    <tr>\n",
       "      <th>1</th>\n",
       "      <td>95-99</td>\n",
       "      <td>AU</td>\n",
       "      <td>male</td>\n",
       "      <td>9.0</td>\n",
       "      <td>2015.0</td>\n",
       "    </tr>\n",
       "    <tr>\n",
       "      <th>2</th>\n",
       "      <td>90-94</td>\n",
       "      <td>AU</td>\n",
       "      <td>male</td>\n",
       "      <td>47.0</td>\n",
       "      <td>2015.0</td>\n",
       "    </tr>\n",
       "    <tr>\n",
       "      <th>3</th>\n",
       "      <td>85-89</td>\n",
       "      <td>AU</td>\n",
       "      <td>male</td>\n",
       "      <td>118.0</td>\n",
       "      <td>2015.0</td>\n",
       "    </tr>\n",
       "    <tr>\n",
       "      <th>4</th>\n",
       "      <td>80-84</td>\n",
       "      <td>AU</td>\n",
       "      <td>male</td>\n",
       "      <td>199.0</td>\n",
       "      <td>2015.0</td>\n",
       "    </tr>\n",
       "  </tbody>\n",
       "</table>\n",
       "</div>"
      ],
      "text/plain": [
       "  age_bucket country_destination gender  population_in_thousands    year\n",
       "0       100+                  AU   male                      1.0  2015.0\n",
       "1      95-99                  AU   male                      9.0  2015.0\n",
       "2      90-94                  AU   male                     47.0  2015.0\n",
       "3      85-89                  AU   male                    118.0  2015.0\n",
       "4      80-84                  AU   male                    199.0  2015.0"
      ]
     },
     "execution_count": 5,
     "metadata": {},
     "output_type": "execute_result"
    }
   ],
   "source": [
    "demographic_df = pd.read_csv('airbnb-recruiting-new-user-bookings/age_gender_bkts.csv')\n",
    "demographic_df.head()"
   ]
  },
  {
   "cell_type": "code",
   "execution_count": 7,
   "id": "5b014f6f",
   "metadata": {},
   "outputs": [
    {
     "name": "stdout",
     "output_type": "stream",
     "text": [
      "['AU' 'CA' 'DE' 'ES' 'FR' 'GB' 'IT' 'NL' 'PT' 'US']\n"
     ]
    }
   ],
   "source": [
    "countries = demographic_df['country_destination'].unique()\n",
    "print(countries)"
   ]
  },
  {
   "cell_type": "code",
   "execution_count": 55,
   "id": "9c783c74",
   "metadata": {},
   "outputs": [
    {
     "data": {
      "text/plain": [
       "{'country': [],\n",
       " '100+_male': [],\n",
       " '95-99_male': [],\n",
       " '90-94_male': [],\n",
       " '85-89_male': [],\n",
       " '80-84_male': [],\n",
       " '75-79_male': [],\n",
       " '70-74_male': [],\n",
       " '65-69_male': [],\n",
       " '60-64_male': [],\n",
       " '55-59_male': [],\n",
       " '50-54_male': [],\n",
       " '45-49_male': [],\n",
       " '40-44_male': [],\n",
       " '35-39_male': [],\n",
       " '30-34_male': [],\n",
       " '25-29_male': [],\n",
       " '20-24_male': [],\n",
       " '15-19_male': [],\n",
       " '10-14_male': [],\n",
       " '5-9_male': [],\n",
       " '0-4_male': [],\n",
       " '100+_female': [],\n",
       " '95-99_female': [],\n",
       " '90-94_female': [],\n",
       " '85-89_female': [],\n",
       " '80-84_female': [],\n",
       " '75-79_female': [],\n",
       " '70-74_female': [],\n",
       " '65-69_female': [],\n",
       " '60-64_female': [],\n",
       " '55-59_female': [],\n",
       " '50-54_female': [],\n",
       " '45-49_female': [],\n",
       " '40-44_female': [],\n",
       " '35-39_female': [],\n",
       " '30-34_female': [],\n",
       " '25-29_female': [],\n",
       " '20-24_female': [],\n",
       " '15-19_female': [],\n",
       " '10-14_female': [],\n",
       " '5-9_female': [],\n",
       " '0-4_female': []}"
      ]
     },
     "execution_count": 55,
     "metadata": {},
     "output_type": "execute_result"
    }
   ],
   "source": [
    "# country = 'AU'\n",
    "demographic_dict = {'country':[]}\n",
    "\n",
    "for row in demographic_df.index:\n",
    "    key = demographic_df['age_bucket'][row] + '_' + demographic_df['gender'][row]\n",
    "    demographic_dict[key] = []\n",
    "demographic_dict\n"
   ]
  },
  {
   "cell_type": "code",
   "execution_count": 59,
   "id": "dbec3380",
   "metadata": {},
   "outputs": [],
   "source": [
    "for country in countries:\n",
    "    country_df = demographic_df.loc[demographic_df['country_destination'] == country]\n",
    "    demographic_dict['country'].append(country)\n",
    "    for row in country_df.index:\n",
    "        demographic_dict[country_df['age_bucket'][row] + '_' + country_df['gender'][row]].append(\n",
    "            country_df['population_in_thousands'][row])"
   ]
  },
  {
   "cell_type": "code",
   "execution_count": 62,
   "id": "ffeeb384",
   "metadata": {},
   "outputs": [],
   "source": [
    "pivotted_data = pd.DataFrame(demographic_dict)\n",
    "# pivotted_data.info()"
   ]
  },
  {
   "cell_type": "code",
   "execution_count": 65,
   "id": "971b8914",
   "metadata": {},
   "outputs": [],
   "source": [
    "pivotted_data.to_csv('airbnb-recruiting-new-user-bookings/clean_age_gender_bkts.csv')"
   ]
  }
 ],
 "metadata": {
  "kernelspec": {
   "display_name": "Python 3 (ipykernel)",
   "language": "python",
   "name": "python3"
  },
  "language_info": {
   "codemirror_mode": {
    "name": "ipython",
    "version": 3
   },
   "file_extension": ".py",
   "mimetype": "text/x-python",
   "name": "python",
   "nbconvert_exporter": "python",
   "pygments_lexer": "ipython3",
   "version": "3.8.5"
  }
 },
 "nbformat": 4,
 "nbformat_minor": 5
}
